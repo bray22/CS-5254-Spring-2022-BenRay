{
  "nbformat": 4,
  "nbformat_minor": 0,
  "metadata": {
    "colab": {
      "name": "HOF.ipynb",
      "provenance": [],
      "collapsed_sections": [],
      "toc_visible": true,
      "authorship_tag": "ABX9TyMtYCEC0w/Iu6WHBzOtF/Px",
      "include_colab_link": true
    },
    "kernelspec": {
      "name": "python3",
      "display_name": "Python 3"
    },
    "language_info": {
      "name": "python"
    }
  },
  "cells": [
    {
      "cell_type": "markdown",
      "metadata": {
        "id": "view-in-github",
        "colab_type": "text"
      },
      "source": [
        "<a href=\"https://colab.research.google.com/github/bray22/CS-5254-Spring-2022-BenRay/blob/main/HOF.ipynb\" target=\"_parent\"><img src=\"https://colab.research.google.com/assets/colab-badge.svg\" alt=\"Open In Colab\"/></a>"
      ]
    },
    {
      "cell_type": "markdown",
      "source": [
        "# Basketball Hall of Fame Predictor"
      ],
      "metadata": {
        "id": "ZixGwbaBsNOZ"
      }
    },
    {
      "cell_type": "markdown",
      "source": [
        "**Background**\n",
        "\n",
        "The Basketball Hall of Fame is an institution that honors the greatest NBA basketball players of all time. Located in Springfield, MA, the HOF includes over 400 of the most elite players from the last century.\n",
        "\n",
        "\n",
        "**Project Description**\n",
        "\n",
        "Using the statistics of current Hame of Fame inductees and current players, the goal of the project is to predict how likely a current NBA player is to be inducted into to the Basketball Hall of Fame. Players with statistics comparable to Hall of Fame inductees are considered a likely candidate for induction...\n",
        "\n",
        "\n",
        "**Performance Metric**\n",
        "\n",
        "The performance metric is player performance statistics...."
      ],
      "metadata": {
        "id": "dSY3NQkzsrFW"
      }
    }
  ]
}